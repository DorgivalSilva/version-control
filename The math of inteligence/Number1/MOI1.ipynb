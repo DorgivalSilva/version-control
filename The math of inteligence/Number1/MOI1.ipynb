{
 "cells": [
  {
   "cell_type": "code",
   "execution_count": 33,
   "metadata": {},
   "outputs": [
    {
     "data": {
      "image/png": "[encoded data removed]",
      "text/plain": [
       "<matplotlib.figure.Figure at 0x7f5101fdb898>"
      ]
     },
     "metadata": {},
     "output_type": "display_data"
    }
   ],
   "source": [
    "# The math of inteligence, prof. Siraj Raval\n",
    "# https://www.youtube.com/watch?v=xRJCOz3AfYY&index=1&list=PL2-dafEMk2A7mu0bSksCGMJEmeddU_H4D\n",
    "\n",
    "from numpy import *\n",
    "import matplotlib.pyplot as plt\n",
    "\n",
    "def importdata():\n",
    "    points = genfromtxt('dataMOI1.csv', delimiter=',')\n",
    "    return points\n",
    "\n",
    "def error(m, b, points):\n",
    "    totalError = 0\n",
    "    for point in range(0, len(points)):\n",
    "        x = points[point, 0]\n",
    "        y = points[point, 1]\n",
    "        totalError += ((y - (m * x + b)) ** 2) / float(len(points))\n",
    "    return totalError\n",
    "\n",
    "def stepGradDesc(m, b, points, eta):\n",
    "    m_gradient = 0\n",
    "    b_gradient = 0\n",
    "    for point in range(0, len(points)):\n",
    "        x = points[point, 0]\n",
    "        y = points[point, 1]\n",
    "        m_gradient += - (2 / float(len(points))) * x * (y - (m * x + b))\n",
    "        b_gradient += - (2 / float(len(points))) * (y - (m * x + b))\n",
    "    m -= eta * m_gradient\n",
    "    b -= eta * b_gradient\n",
    "    return m, b\n",
    "\n",
    "def GradDescRunner(m, b, points, eta, nIter):\n",
    "    for i in range(nIter):\n",
    "        m, b = stepGradDesc(m, b, points, eta)\n",
    "        #print(error(m, b, points))\n",
    "    return m, b\n",
    "\n",
    "def show_results(points, m, b):\n",
    "    x = points[:, 0]\n",
    "    y = points[:, 1]\n",
    "    plt.title('running vs calories')\n",
    "    plt.scatter(x, y, color='blue')\n",
    "    plt.plot(x, m * x + b, color='red', label='Best fit')\n",
    "    plt.xlabel('calories')\n",
    "    plt.ylabel('running')\n",
    "    plt.legend()\n",
    "    return plt.show()\n",
    "\n",
    "m, b = (GradDescRunner(0, 0, importdata(), 0.0001, 1000)) \n",
    "\n",
    "show_results(importdata(), m, b)\n",
    "\n"
   ]
  }
 ],
 "metadata": {
  "kernelspec": {
   "display_name": "Python 3",
   "language": "python",
   "name": "python3"
  },
  "language_info": {
   "codemirror_mode": {
    "name": "ipython",
    "version": 3
   },
   "file_extension": ".py",
   "mimetype": "text/x-python",
   "name": "python",
   "nbconvert_exporter": "python",
   "pygments_lexer": "ipython3",
   "version": "3.6.2"
  }
 },
 "nbformat": 4,
 "nbformat_minor": 2
}
