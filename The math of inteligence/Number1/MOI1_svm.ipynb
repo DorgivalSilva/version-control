{
 "cells": [
  {
   "cell_type": "markdown",
   "metadata": {},
   "source": [
    "# Support vector machine from scratch\n",
    "https://www.youtube.com/watch?v=yrnhziJk-z8&index=28&list=PLQVvvaa0QuDfKTOs3Keq_kaG2P55YRn5v, prof. Sentdex"
   ]
  },
  {
   "cell_type": "code",
   "execution_count": 1,
   "metadata": {},
   "outputs": [],
   "source": [
    "import numpy as np\n",
    "import matplotlib.pyplot as plt\n",
    "\n",
    "data_dict = {-1:np.array([[1, 7], [2, 8], [3, 8]]), 1:np.array([[5, 1], [3, -1], [7, 3]])}"
   ]
  },
  {
   "cell_type": "code",
   "execution_count": 14,
   "metadata": {},
   "outputs": [],
   "source": [
    "class SupportVectorMachine:\n",
    "    def __init__(self, visualization = True):\n",
    "        self.visualization = visualization\n",
    "        self.colors = {-1: 'r', 1: 'b'}\n",
    "        if self.visualization:\n",
    "            self.fig = plt.figure()\n",
    "            self.ax = self.fig.add_subplot(1, 1, 1)\n",
    "    \n",
    "    def fit(self, data):\n",
    "        self.data = data\n",
    "        opt_dict = {}\n",
    "        transforms = [[1, 1], [-1, 1], [1, -1], [-1, -1]] # i dont know what is it!\n",
    "        \n",
    "        all_data = []\n",
    "        for yi in self.data:\n",
    "            for featureset in self.data[yi]:\n",
    "                for feature in featureset:\n",
    "                    all_data.append(feature)\n",
    "                    \n",
    "        self.maxFeature = max(all_data)\n",
    "        self.minFeature = min(all_data)\n",
    "        all_data = None\n",
    "        stepSize = [0.1*self.maxFeature, 0.01*self.maxFeature, 0.005*self.maxFeature]\n",
    "        latestOptimum = 10*self.maxFeature # return to this point to understand better!\n",
    "        \n",
    "        b_range = 2\n",
    "        b_multiple = 5\n",
    "        for step in stepSize:\n",
    "            w = np.array([latestOptimum, latestOptimum])\n",
    "            # Only because its convex\n",
    "            optimized = False \n",
    "            while not optimized:\n",
    "                for b in np.arange(-1*(self.maxFeature*b_range), self.maxFeature*b_range, step*b_multiple):      \n",
    "                    for transformation in transforms:\n",
    "                        w_t = w*transformation\n",
    "                        foundOption = True          \n",
    "                        for yi in self.data:\n",
    "                            for xi in self.data[yi]:\n",
    "                                if not yi * (np.dot(w_t, xi) + b) >= 1:\n",
    "                                    foundOption = False\n",
    "                        if foundOption: # have to see here\n",
    "                            opt_dict[np.linalg.norm(w_t)] = [w_t, b]\n",
    "                if w[0] < 0:\n",
    "                    optimized = True\n",
    "                    print('Optimized one step')\n",
    "                else:\n",
    "                    w = w - step\n",
    "            norms = sorted([n for n in opt_dict])\n",
    "            opt_choice = opt_dict[norms[0]]\n",
    "            self.w = opt_choice[0]\n",
    "            self.b = opt_choice[1]\n",
    "            latestOptimum = opt_choice[0][0] + step * 2\n",
    "        \n",
    "        for yi in self.data:\n",
    "            for xi in self.data[yi]:\n",
    "                print(xi,':',yi*(np.dot(self.w,xi)+self.b)) \n",
    "        \n",
    "        return None\n",
    "    \n",
    "    \n",
    "    def predict(self, features):\n",
    "        classification = np.sign(np.dot(np.array(features), self.w) + self.b)\n",
    "        if classification != 0 and self.visualization:\n",
    "            self.ax.scatter(features[0], features[1], s = 200, marker = '^', c = self.colors[classification])\n",
    "        return classification   \n",
    "    \n",
    "    \n",
    "    def visualize(self):\n",
    "        [[self.ax.scatter(x[0], x[1], s = 200, color = self.colors[i]) for x in data_dict[i]] for i in data_dict]\n",
    "        \n",
    "        def hyperplane(x, w, b, v):\n",
    "            return (- w[0] * x - b + v)/w[1]\n",
    "        \n",
    "        datarange = (0.9*self.minFeature, 1.1*self.maxFeature)\n",
    "        xHyperMin = datarange[0]\n",
    "        xHyperMax = datarange[1]\n",
    "        \n",
    "        # (w.x+b) = 1\n",
    "        # positive support vector hyperplane\n",
    "        psv1 = hyperplane(xHyperMin, self.w, self.b, 1)\n",
    "        psv2 = hyperplane(xHyperMax, self.w, self.b, 1)\n",
    "        self.ax.plot([xHyperMin, xHyperMax], [psv1, psv2], 'k')\n",
    "\n",
    "        # (w.x+b) = -1\n",
    "        # negative support vector hyperplane\n",
    "        nsv1 = hyperplane(xHyperMin, self.w, self.b, -1)\n",
    "        nsv2 = hyperplane(xHyperMax, self.w, self.b, -1)\n",
    "        self.ax.plot([xHyperMin, xHyperMax], [nsv1, nsv2], 'k')\n",
    "\n",
    "        # (w.x+b) = 0\n",
    "        # positive support vector hyperplane\n",
    "        db1 = hyperplane(xHyperMin, self.w, self.b, 0)\n",
    "        db2 = hyperplane(xHyperMax, self.w, self.b, 0)\n",
    "        self.ax.plot([xHyperMin, xHyperMax], [db1, db2], 'y--')\n",
    "        \n",
    "        plt.show()\n",
    "        \n",
    "        return None"
   ]
  },
  {
   "cell_type": "code",
   "execution_count": 16,
   "metadata": {},
   "outputs": [
    {
     "name": "stdout",
     "output_type": "stream",
     "text": [
      "Optimized one step\n",
      "Optimized one step\n",
      "Optimized one step\n",
      "[1 7] : 1.48\n",
      "[2 8] : 1.48\n",
      "[3 8] : 1.2\n",
      "[5 1] : 1.32\n",
      "[ 3 -1] : 1.32\n",
      "[7 3] : 1.32\n"
     ]
    },
    {
     "data": {
      "image/png": "[encoded data removed]",
      "text/plain": [
       "<matplotlib.figure.Figure at 0x7f5a29e9df98>"
      ]
     },
     "metadata": {},
     "output_type": "display_data"
    }
   ],
   "source": [
    "svm1 = SupportVectorMachine()\n",
    "svm1.fit(data_dict)\n",
    "\n",
    "predict_us = [[0,10],\n",
    "              [1,3],\n",
    "              [3,4],\n",
    "              [3,5],\n",
    "              [5,5],\n",
    "              [5,6],\n",
    "              [6,-5],\n",
    "              [5,8]]\n",
    "\n",
    "for p in predict_us:\n",
    "    svm1.predict(p)\n",
    "\n",
    "    \n",
    "svm1.visualize()"
   ]
  }
 ],
 "metadata": {
  "kernelspec": {
   "display_name": "Python 3",
   "language": "python",
   "name": "python3"
  },
  "language_info": {
   "codemirror_mode": {
    "name": "ipython",
    "version": 3
   },
   "file_extension": ".py",
   "mimetype": "text/x-python",
   "name": "python",
   "nbconvert_exporter": "python",
   "pygments_lexer": "ipython3",
   "version": "3.6.2"
  }
 },
 "nbformat": 4,
 "nbformat_minor": 2
}
