{
 "cells": [
  {
   "cell_type": "code",
   "execution_count": 39,
   "metadata": {},
   "outputs": [
    {
     "name": "stdout",
     "output_type": "stream",
     "text": [
      "0.677698784251\n"
     ]
    }
   ],
   "source": [
    "# Backpropagation multi layer perceptron\n",
    "\n",
    "import numpy as np\n",
    "\n",
    "np.random.seed(10)\n",
    "\n",
    "af  = ActFunction\n",
    "\n",
    "features  = np.random.randn(5, 3)\n",
    "n_records, n_features = features.shape\n",
    "targets = np.random.randn(5, 1)\n",
    "n_targets = targets.shape[1]\n",
    "n_hidden = 2\n",
    "\n",
    "w12 = np.random.normal(scale = 1 / n_features ** .5, size = (n_features, n_hidden))\n",
    "w23 = np.random.normal(scale = 1 / n_features ** .5, size = (n_hidden, n_targets))\n",
    "\n",
    "learnrate = 0.01\n",
    "epochs = 1000\n",
    "\n",
    "for e in range(epochs):\n",
    "    error_rms = 0\n",
    "    dw12 = np.zeros(w12.shape)\n",
    "    dw23 = np.zeros(w23.shape)\n",
    "    for x, y in zip(features, targets):\n",
    "        h23 = af.sig(np.dot(x, w12))\n",
    "        dh23 = af.sig(np.dot(x, w12), True)\n",
    "        output = af.sig(np.dot(h23, w23))\n",
    "        doutput = af.sig(np.dot(h23, w23), True)\n",
    "        \n",
    "        error = y - output\n",
    "        del_error = error*doutput\n",
    "        del_herror = del_error*dh23\n",
    "        \n",
    "        dw12 = del_herror*w12*x[:, None]\n",
    "        dw23 = del_error*w23*doutput\n",
    "        \n",
    "        w12 += learnrate*dw12/n_records\n",
    "        w23 += learnrate*dw23/n_records\n",
    "        \n",
    "        error_rms += np.mean(error**2)\n",
    "    \n",
    "    Total_error = error_rms/(2*n_records)\n",
    "        \n",
    "print(Total_error)"
   ]
  },
  {
   "cell_type": "code",
   "execution_count": 38,
   "metadata": {},
   "outputs": [],
   "source": [
    "class ActFunction:\n",
    "    \n",
    "    def sig(x, deriv = False):\n",
    "        sigmoid = 1/(1 + np.exp(-x))\n",
    "        if deriv:\n",
    "            return sigmoid*(1 - sigmoid)\n",
    "        else:\n",
    "            return sigmoid"
   ]
  }
 ],
 "metadata": {
  "kernelspec": {
   "display_name": "Python 3",
   "language": "python",
   "name": "python3"
  },
  "language_info": {
   "codemirror_mode": {
    "name": "ipython",
    "version": 3
   },
   "file_extension": ".py",
   "mimetype": "text/x-python",
   "name": "python",
   "nbconvert_exporter": "python",
   "pygments_lexer": "ipython3",
   "version": "3.6.3"
  }
 },
 "nbformat": 4,
 "nbformat_minor": 2
}
