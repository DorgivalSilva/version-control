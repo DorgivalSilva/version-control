{
 "cells": [
  {
   "cell_type": "code",
   "execution_count": 1,
   "metadata": {},
   "outputs": [],
   "source": [
    "# Backpropagation multi layer perceptron\n",
    "\n",
    "import numpy as np\n",
    "\n",
    "np.random.seed(10)\n",
    "\n",
    "def sigmoid(x):\n",
    "    return 1 / (1 + np.exp(-x))\n",
    "\n",
    "features  = np.random.randn(5, 3)\n",
    "n_records, n_features = features.shape\n",
    "targets = np.random.randn(5, 1)\n",
    "n_targets = targets.shape[1]\n",
    "n_hidden = 2\n",
    "\n",
    "winput_hidden = np.random.normal(scale = 1 / n_features ** .5, size = (n_features, n_hidden))\n",
    "whidden_output = np.random.normal(scale = 1 / n_features ** .5, size = (n_hidden, n_targets))\n",
    "\n",
    "learnrate = 0.01\n",
    "epochs = 1000\n",
    "\n",
    "for e in range(epochs):\n",
    "    error_rms = 0\n",
    "    dwinput_hidden = np.zeros(winput_hidden.shape)\n",
    "    dwhidden_output = np.zeros(whidden_output.shape)\n",
    "    for x, y in zip(features, targets):\n",
    "        hidden_output = sigmoid(np.dot(x, winput_hidden))\n",
    "        output = sigmoid(np.dot(hidden_output, whidden_output))\n",
    "        \n",
    "        error = y - output\n",
    "        del_error = error*output*(1 - output)\n",
    "        del_herror = del_error*hidden_output*(1 - hidden_output)\n",
    "        \n",
    "        dwinput_hidden = del_herror*winput_hidden*x[:, None]\n",
    "        dwhidden_output = del_error*whidden_output*output*(1 - output)\n",
    "        \n",
    "        winput_hidden += learnrate*dwinput_hidden/n_records\n",
    "        whidden_output += learnrate*dwhidden_output/n_records\n",
    "        \n",
    "        error_rms += np.mean(error**2)\n",
    "    \n",
    "    \n",
    "    Total_error = error_rms/(2*n_records)\n",
    "        \n",
    "    #print(Total_error)\n"
   ]
  }
 ],
 "metadata": {
  "kernelspec": {
   "display_name": "Python [conda env:my_env]",
   "language": "python",
   "name": "conda-env-my_env-py"
  },
  "language_info": {
   "codemirror_mode": {
    "name": "ipython",
    "version": 3
   },
   "file_extension": ".py",
   "mimetype": "text/x-python",
   "name": "python",
   "nbconvert_exporter": "python",
   "pygments_lexer": "ipython3",
   "version": "3.6.3"
  }
 },
 "nbformat": 4,
 "nbformat_minor": 2
}
