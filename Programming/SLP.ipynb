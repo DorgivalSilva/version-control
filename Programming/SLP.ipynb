{
 "cells": [
  {
   "cell_type": "code",
   "execution_count": 6,
   "metadata": {},
   "outputs": [
    {
     "name": "stdout",
     "output_type": "stream",
     "text": [
      "Final error: [ -2.74015699e-10]\n"
     ]
    }
   ],
   "source": [
    "# Single layer perceptron\n",
    "\n",
    "import numpy as np\n",
    "import matplotlib.pyplot as plt\n",
    "\n",
    "def sigmoid(h, deriv = False):\n",
    "    if not deriv:\n",
    "        return 1/(1 + np.exp(-h))\n",
    "    else:\n",
    "        return sigmoid(h) * (1 - sigmoid(h))\n",
    "\n",
    "eta = 0.1\n",
    "x = np.array([1, 2, 3, 4])\n",
    "y = np.array([0.5])\n",
    "w = np.array([0.5, -0.5, 0.3, 0.1])\n",
    "\n",
    "for i in range(0, 100):\n",
    "    \n",
    "    h = np.dot(w, x)\n",
    "\n",
    "    error = y - sigmoid(h)\n",
    "\n",
    "    error_del = error*sigmoid(h, deriv = True)\n",
    "\n",
    "    delw = eta*error_del*x\n",
    "    \n",
    "    w += delw\n",
    "        \n",
    "print('Final error:', error)\n"
   ]
  }
 ],
 "metadata": {
  "kernelspec": {
   "display_name": "Python [conda env:my_env]",
   "language": "python",
   "name": "conda-env-my_env-py"
  },
  "language_info": {
   "codemirror_mode": {
    "name": "ipython",
    "version": 3
   },
   "file_extension": ".py",
   "mimetype": "text/x-python",
   "name": "python",
   "nbconvert_exporter": "python",
   "pygments_lexer": "ipython3",
   "version": "3.6.3"
  }
 },
 "nbformat": 4,
 "nbformat_minor": 2
}
